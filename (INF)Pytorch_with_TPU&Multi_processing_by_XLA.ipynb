{
  "nbformat": 4,
  "nbformat_minor": 0,
  "metadata": {
    "colab": {
      "name": "(INF)Pytorch with TPU&Multi-processing  by XLA.ipynb",
      "provenance": [],
      "collapsed_sections": [],
      "toc_visible": true,
      "machine_shape": "hm",
      "authorship_tag": "ABX9TyOW0JOYqlNmLf8KSL4uRS0d"
    },
    "kernelspec": {
      "name": "python3",
      "display_name": "Python 3"
    },
    "accelerator": "GPU",
    "widgets": {
      "application/vnd.jupyter.widget-state+json": {
        "0ae6a5f363b847fca2579d88d547742a": {
          "model_module": "@jupyter-widgets/controls",
          "model_name": "HBoxModel",
          "state": {
            "_view_name": "HBoxView",
            "_dom_classes": [],
            "_model_name": "HBoxModel",
            "_view_module": "@jupyter-widgets/controls",
            "_model_module_version": "1.5.0",
            "_view_count": null,
            "_view_module_version": "1.5.0",
            "box_style": "",
            "layout": "IPY_MODEL_e6af6e954b004cfeb3827c5531dc537b",
            "_model_module": "@jupyter-widgets/controls",
            "children": [
              "IPY_MODEL_cdcc4e91a0a94e36ae0c25f429c052da",
              "IPY_MODEL_db0e7aa37bdd47d68b27a253307d5e07"
            ]
          }
        },
        "e6af6e954b004cfeb3827c5531dc537b": {
          "model_module": "@jupyter-widgets/base",
          "model_name": "LayoutModel",
          "state": {
            "_view_name": "LayoutView",
            "grid_template_rows": null,
            "right": null,
            "justify_content": null,
            "_view_module": "@jupyter-widgets/base",
            "overflow": null,
            "_model_module_version": "1.2.0",
            "_view_count": null,
            "flex_flow": null,
            "width": null,
            "min_width": null,
            "border": null,
            "align_items": null,
            "bottom": null,
            "_model_module": "@jupyter-widgets/base",
            "top": null,
            "grid_column": null,
            "overflow_y": null,
            "overflow_x": null,
            "grid_auto_flow": null,
            "grid_area": null,
            "grid_template_columns": null,
            "flex": null,
            "_model_name": "LayoutModel",
            "justify_items": null,
            "grid_row": null,
            "max_height": null,
            "align_content": null,
            "visibility": null,
            "align_self": null,
            "height": null,
            "min_height": null,
            "padding": null,
            "grid_auto_rows": null,
            "grid_gap": null,
            "max_width": null,
            "order": null,
            "_view_module_version": "1.2.0",
            "grid_template_areas": null,
            "object_position": null,
            "object_fit": null,
            "grid_auto_columns": null,
            "margin": null,
            "display": null,
            "left": null
          }
        },
        "cdcc4e91a0a94e36ae0c25f429c052da": {
          "model_module": "@jupyter-widgets/controls",
          "model_name": "FloatProgressModel",
          "state": {
            "_view_name": "ProgressView",
            "style": "IPY_MODEL_2df2d2f9ad254d7abff39f06debd48a4",
            "_dom_classes": [],
            "description": "100%",
            "_model_name": "FloatProgressModel",
            "bar_style": "success",
            "max": 1,
            "_view_module": "@jupyter-widgets/controls",
            "_model_module_version": "1.5.0",
            "value": 1,
            "_view_count": null,
            "_view_module_version": "1.5.0",
            "orientation": "horizontal",
            "min": 0,
            "description_tooltip": null,
            "_model_module": "@jupyter-widgets/controls",
            "layout": "IPY_MODEL_0fb2bd6d70854642880b43dd15167384"
          }
        },
        "db0e7aa37bdd47d68b27a253307d5e07": {
          "model_module": "@jupyter-widgets/controls",
          "model_name": "HTMLModel",
          "state": {
            "_view_name": "HTMLView",
            "style": "IPY_MODEL_e830e4da1ae8451e9139419639e824fd",
            "_dom_classes": [],
            "description": "",
            "_model_name": "HTMLModel",
            "placeholder": "​",
            "_view_module": "@jupyter-widgets/controls",
            "_model_module_version": "1.5.0",
            "value": " 1/1 [00:03&lt;00:00,  3.70s/it]",
            "_view_count": null,
            "_view_module_version": "1.5.0",
            "description_tooltip": null,
            "_model_module": "@jupyter-widgets/controls",
            "layout": "IPY_MODEL_90538e0e202b4e70b37b6d57e86dc812"
          }
        },
        "2df2d2f9ad254d7abff39f06debd48a4": {
          "model_module": "@jupyter-widgets/controls",
          "model_name": "ProgressStyleModel",
          "state": {
            "_view_name": "StyleView",
            "_model_name": "ProgressStyleModel",
            "description_width": "initial",
            "_view_module": "@jupyter-widgets/base",
            "_model_module_version": "1.5.0",
            "_view_count": null,
            "_view_module_version": "1.2.0",
            "bar_color": null,
            "_model_module": "@jupyter-widgets/controls"
          }
        },
        "e830e4da1ae8451e9139419639e824fd": {
          "model_module": "@jupyter-widgets/controls",
          "model_name": "DescriptionStyleModel",
          "state": {
            "_view_name": "StyleView",
            "_model_name": "DescriptionStyleModel",
            "description_width": "",
            "_view_module": "@jupyter-widgets/base",
            "_model_module_version": "1.5.0",
            "_view_count": null,
            "_view_module_version": "1.2.0",
            "_model_module": "@jupyter-widgets/controls"
          }
        },
        "90538e0e202b4e70b37b6d57e86dc812": {
          "model_module": "@jupyter-widgets/base",
          "model_name": "LayoutModel",
          "state": {
            "_view_name": "LayoutView",
            "grid_template_rows": null,
            "right": null,
            "justify_content": null,
            "_view_module": "@jupyter-widgets/base",
            "overflow": null,
            "_model_module_version": "1.2.0",
            "_view_count": null,
            "flex_flow": null,
            "width": null,
            "min_width": null,
            "border": null,
            "align_items": null,
            "bottom": null,
            "_model_module": "@jupyter-widgets/base",
            "top": null,
            "grid_column": null,
            "overflow_y": null,
            "overflow_x": null,
            "grid_auto_flow": null,
            "grid_area": null,
            "grid_template_columns": null,
            "flex": null,
            "_model_name": "LayoutModel",
            "justify_items": null,
            "grid_row": null,
            "max_height": null,
            "align_content": null,
            "visibility": null,
            "align_self": null,
            "height": null,
            "min_height": null,
            "padding": null,
            "grid_auto_rows": null,
            "grid_gap": null,
            "max_width": null,
            "order": null,
            "_view_module_version": "1.2.0",
            "grid_template_areas": null,
            "object_position": null,
            "object_fit": null,
            "grid_auto_columns": null,
            "margin": null,
            "display": null,
            "left": null
          }
        }
      }
    }
  },
  "cells": [
    {
      "cell_type": "markdown",
      "metadata": {
        "id": "bSXgDv0YxBTk"
      },
      "source": [
        "#Competition Name"
      ]
    },
    {
      "cell_type": "code",
      "metadata": {
        "id": "lYxtRX6rxEWI"
      },
      "source": [
        "FLAGS = {}\n",
        "FLAGS['COMP_NAME'] = 'plant-pathology-2021-fgvc8'"
      ],
      "execution_count": 1,
      "outputs": []
    },
    {
      "cell_type": "markdown",
      "metadata": {
        "id": "rUuSi57q_YME"
      },
      "source": [
        "#PGM Type"
      ]
    },
    {
      "cell_type": "code",
      "metadata": {
        "id": "AEn_F4gq_T7c"
      },
      "source": [
        "FLAGS['PGM_TYPE'] = \"INF\""
      ],
      "execution_count": 2,
      "outputs": []
    },
    {
      "cell_type": "markdown",
      "metadata": {
        "id": "NSyEhbx0kWu5"
      },
      "source": [
        ""
      ]
    },
    {
      "cell_type": "markdown",
      "metadata": {
        "id": "jSqVh7w9jmA-"
      },
      "source": [
        "#Environment Settings"
      ]
    },
    {
      "cell_type": "code",
      "metadata": {
        "id": "JfdiTLtsld8E"
      },
      "source": [
        "import os\n",
        "if \"KAGGLE_DATA_PROXY_TOKEN\" in os.environ.keys():\n",
        "  FLAGS['ENV']=\"kaggle\"\n",
        "else:\n",
        "  FLAGS['ENV']=\"colab\""
      ],
      "execution_count": 3,
      "outputs": []
    },
    {
      "cell_type": "markdown",
      "metadata": {
        "id": "FWgKr_YsVW4Z"
      },
      "source": [
        "#Hardware Settings"
      ]
    },
    {
      "cell_type": "code",
      "metadata": {
        "colab": {
          "base_uri": "https://localhost:8080/"
        },
        "id": "-xbo7iq7imzP",
        "outputId": "128170c0-2a74-40f5-d97f-171675a2f4bf"
      },
      "source": [
        "if FLAGS['ENV'] == \"colab\":\n",
        "  #Check TPU status\n",
        "  if 'COLAB_TPU_ADDR' in os.environ.keys():\n",
        "    from tensorflow.python.profiler import profiler_client\n",
        "    tpu_profile_service_address = os.environ['COLAB_TPU_ADDR'].replace('8470', '8466')\n",
        "    print(profiler_client.monitor(tpu_profile_service_address, 100, 2))\n",
        "\n",
        "  #Connect Google drive\n",
        "  from google.colab import drive\n",
        "  drive.mount('/content/drive')\n",
        "  !mkdir -p ~/.kaggle\n",
        "  !cp \"drive/My Drive/kaggle/kaggle.json\" ~/.kaggle/\n",
        "  !pip install --upgrade --force-reinstall --no-deps kaggle\n",
        "  !kaggle config view\n",
        "  ROOT_DIR=\"/content/drive/MyDrive\"\n",
        "  INPUT_DIR=\"/kaggle/input\"\n",
        "\n",
        "  %cd $ROOT_DIR$INPUT_DIR"
      ],
      "execution_count": 4,
      "outputs": [
        {
          "output_type": "stream",
          "text": [
            "Mounted at /content/drive\n",
            "Collecting kaggle\n",
            "\u001b[?25l  Downloading https://files.pythonhosted.org/packages/3a/e7/3bac01547d2ed3d308ac92a0878fbdb0ed0f3d41fb1906c319ccbba1bfbc/kaggle-1.5.12.tar.gz (58kB)\n",
            "\u001b[K     |████████████████████████████████| 61kB 6.3MB/s \n",
            "\u001b[?25hBuilding wheels for collected packages: kaggle\n",
            "  Building wheel for kaggle (setup.py) ... \u001b[?25l\u001b[?25hdone\n",
            "  Created wheel for kaggle: filename=kaggle-1.5.12-cp37-none-any.whl size=73053 sha256=f718602cb22072c3048d20b9ce1c1a89d35eb02ad558146080b15579ab56cc4e\n",
            "  Stored in directory: /root/.cache/pip/wheels/a1/6a/26/d30b7499ff85a4a4593377a87ecf55f7d08af42f0de9b60303\n",
            "Successfully built kaggle\n",
            "Installing collected packages: kaggle\n",
            "  Found existing installation: kaggle 1.5.10\n",
            "    Uninstalling kaggle-1.5.10:\n",
            "      Successfully uninstalled kaggle-1.5.10\n",
            "Successfully installed kaggle-1.5.12\n",
            "Configuration values from /root/.kaggle\n",
            "- username: roganzu\n",
            "- path: None\n",
            "- proxy: None\n",
            "- competition: None\n",
            "/content/drive/MyDrive/kaggle/input\n"
          ],
          "name": "stdout"
        }
      ]
    },
    {
      "cell_type": "code",
      "metadata": {
        "colab": {
          "base_uri": "https://localhost:8080/"
        },
        "id": "2hn04dFMUXMf",
        "outputId": "70ff8220-6d6a-4ae8-c1b3-6852418f0154"
      },
      "source": [
        "#Check GPU status\n",
        "gpu_info = !nvidia-smi\n",
        "gpu_info = '\\n'.join(gpu_info)\n",
        "if gpu_info.find('failed') >= 0:\n",
        "  print('Select the Runtime > \"Change runtime type\" menu to enable a GPU accelerator, ')\n",
        "  print('and then re-execute this cell.')\n",
        "else:\n",
        "  print(gpu_info)"
      ],
      "execution_count": 5,
      "outputs": [
        {
          "output_type": "stream",
          "text": [
            "Sat Mar 27 12:49:05 2021       \n",
            "+-----------------------------------------------------------------------------+\n",
            "| NVIDIA-SMI 460.56       Driver Version: 460.32.03    CUDA Version: 11.2     |\n",
            "|-------------------------------+----------------------+----------------------+\n",
            "| GPU  Name        Persistence-M| Bus-Id        Disp.A | Volatile Uncorr. ECC |\n",
            "| Fan  Temp  Perf  Pwr:Usage/Cap|         Memory-Usage | GPU-Util  Compute M. |\n",
            "|                               |                      |               MIG M. |\n",
            "|===============================+======================+======================|\n",
            "|   0  Tesla V100-SXM2...  Off  | 00000000:00:04.0 Off |                    0 |\n",
            "| N/A   36C    P0    25W / 300W |      0MiB / 16160MiB |      0%      Default |\n",
            "|                               |                      |                  N/A |\n",
            "+-------------------------------+----------------------+----------------------+\n",
            "                                                                               \n",
            "+-----------------------------------------------------------------------------+\n",
            "| Processes:                                                                  |\n",
            "|  GPU   GI   CI        PID   Type   Process name                  GPU Memory |\n",
            "|        ID   ID                                                   Usage      |\n",
            "|=============================================================================|\n",
            "|  No running processes found                                                 |\n",
            "+-----------------------------------------------------------------------------+\n"
          ],
          "name": "stdout"
        }
      ]
    },
    {
      "cell_type": "code",
      "metadata": {
        "colab": {
          "base_uri": "https://localhost:8080/"
        },
        "id": "YBF97WJIVLf6",
        "outputId": "ffcd6dea-0524-4725-ee75-869a080ce446"
      },
      "source": [
        "#Check Memory size\n",
        "from psutil import virtual_memory\n",
        "ram_gb = virtual_memory().total / 1e9\n",
        "print('Your runtime has {:.1f} gigabytes of available RAM\\n'.format(ram_gb))\n",
        "\n",
        "if ram_gb < 20:\n",
        "  print('To enable a high-RAM runtime, select the Runtime > \"Change runtime type\"')\n",
        "  print('menu, and then select High-RAM in the Runtime shape dropdown. Then, ')\n",
        "  print('re-execute this cell.')\n",
        "else:\n",
        "  print('You are using a high-RAM runtime!')"
      ],
      "execution_count": 6,
      "outputs": [
        {
          "output_type": "stream",
          "text": [
            "Your runtime has 27.4 gigabytes of available RAM\n",
            "\n",
            "You are using a high-RAM runtime!\n"
          ],
          "name": "stdout"
        }
      ]
    },
    {
      "cell_type": "code",
      "metadata": {
        "id": "TkAwx1rfMMTT"
      },
      "source": [
        "import torch\n",
        "device = torch.device('cuda' if torch.cuda.is_available() else 'cpu')"
      ],
      "execution_count": 7,
      "outputs": []
    },
    {
      "cell_type": "markdown",
      "metadata": {
        "id": "yJCeIb70tMm1"
      },
      "source": [
        "#Dependencies"
      ]
    },
    {
      "cell_type": "code",
      "metadata": {
        "id": "NzUyYi_8tKln"
      },
      "source": [
        "import numpy as np\n",
        "from tensorflow.python.profiler import profiler_client\n",
        "import time\n",
        "import random\n",
        "\n",
        "import torch.nn as nn\n",
        "from torchvision import datasets, transforms\n",
        "\n",
        "import pandas as pd\n",
        "import cv2\n",
        "from matplotlib import pyplot as plt\n",
        "\n",
        "\n",
        "from torch.utils.data import DataLoader, Dataset\n",
        "\n",
        "from torch.optim import Adam\n",
        "from torch.optim.lr_scheduler import CosineAnnealingLR\n",
        "import math\n",
        "import datetime\n",
        "\n",
        "#for INF\n",
        "from tqdm.auto import tqdm"
      ],
      "execution_count": 8,
      "outputs": []
    },
    {
      "cell_type": "code",
      "metadata": {
        "id": "g08-KtS2oSR-"
      },
      "source": [
        "#xla\n",
        "if 'COLAB_TPU_ADDR' in os.environ.keys():\n",
        "  import torch_xla\n",
        "  import torch_xla.core.xla_model as xm\n",
        "  import torch_xla.distributed.parallel_loader as pl\n",
        "  import torch_xla.distributed.xla_multiprocessing as xmp"
      ],
      "execution_count": 9,
      "outputs": []
    },
    {
      "cell_type": "code",
      "metadata": {
        "colab": {
          "base_uri": "https://localhost:8080/"
        },
        "id": "OxEbZIoPmoKi",
        "outputId": "a3a80079-ed08-425b-82a8-eeb506dcd880"
      },
      "source": [
        "#timm\n",
        "import sys\n",
        "if FLAGS['ENV'] == \"kaggle\":\n",
        "  sys.path.append('../input/pytorch-image-models/pytorch-image-models-master')\n",
        "else:\n",
        "  !pip install timm\n",
        "import timm"
      ],
      "execution_count": 10,
      "outputs": [
        {
          "output_type": "stream",
          "text": [
            "Collecting timm\n",
            "\u001b[?25l  Downloading https://files.pythonhosted.org/packages/9e/89/d94f59780b5dd973154bf506d8ce598f6bfe7cc44dd445d644d6d3be8c39/timm-0.4.5-py3-none-any.whl (287kB)\n",
            "\r\u001b[K     |█▏                              | 10kB 16.8MB/s eta 0:00:01\r\u001b[K     |██▎                             | 20kB 22.8MB/s eta 0:00:01\r\u001b[K     |███▍                            | 30kB 28.3MB/s eta 0:00:01\r\u001b[K     |████▋                           | 40kB 22.4MB/s eta 0:00:01\r\u001b[K     |█████▊                          | 51kB 16.5MB/s eta 0:00:01\r\u001b[K     |██████▉                         | 61kB 18.5MB/s eta 0:00:01\r\u001b[K     |████████                        | 71kB 15.5MB/s eta 0:00:01\r\u001b[K     |█████████▏                      | 81kB 13.4MB/s eta 0:00:01\r\u001b[K     |██████████▎                     | 92kB 13.1MB/s eta 0:00:01\r\u001b[K     |███████████▍                    | 102kB 12.6MB/s eta 0:00:01\r\u001b[K     |████████████▌                   | 112kB 12.6MB/s eta 0:00:01\r\u001b[K     |█████████████▊                  | 122kB 12.6MB/s eta 0:00:01\r\u001b[K     |██████████████▉                 | 133kB 12.6MB/s eta 0:00:01\r\u001b[K     |████████████████                | 143kB 12.6MB/s eta 0:00:01\r\u001b[K     |█████████████████               | 153kB 12.6MB/s eta 0:00:01\r\u001b[K     |██████████████████▎             | 163kB 12.6MB/s eta 0:00:01\r\u001b[K     |███████████████████▍            | 174kB 12.6MB/s eta 0:00:01\r\u001b[K     |████████████████████▌           | 184kB 12.6MB/s eta 0:00:01\r\u001b[K     |█████████████████████▋          | 194kB 12.6MB/s eta 0:00:01\r\u001b[K     |██████████████████████▉         | 204kB 12.6MB/s eta 0:00:01\r\u001b[K     |████████████████████████        | 215kB 12.6MB/s eta 0:00:01\r\u001b[K     |█████████████████████████       | 225kB 12.6MB/s eta 0:00:01\r\u001b[K     |██████████████████████████▏     | 235kB 12.6MB/s eta 0:00:01\r\u001b[K     |███████████████████████████▍    | 245kB 12.6MB/s eta 0:00:01\r\u001b[K     |████████████████████████████▌   | 256kB 12.6MB/s eta 0:00:01\r\u001b[K     |█████████████████████████████▋  | 266kB 12.6MB/s eta 0:00:01\r\u001b[K     |██████████████████████████████▉ | 276kB 12.6MB/s eta 0:00:01\r\u001b[K     |████████████████████████████████| 286kB 12.6MB/s eta 0:00:01\r\u001b[K     |████████████████████████████████| 296kB 12.6MB/s \n",
            "\u001b[?25hRequirement already satisfied: torch>=1.4 in /usr/local/lib/python3.7/dist-packages (from timm) (1.8.0+cu101)\n",
            "Requirement already satisfied: torchvision in /usr/local/lib/python3.7/dist-packages (from timm) (0.9.0+cu101)\n",
            "Requirement already satisfied: numpy in /usr/local/lib/python3.7/dist-packages (from torch>=1.4->timm) (1.19.5)\n",
            "Requirement already satisfied: typing-extensions in /usr/local/lib/python3.7/dist-packages (from torch>=1.4->timm) (3.7.4.3)\n",
            "Requirement already satisfied: pillow>=4.1.1 in /usr/local/lib/python3.7/dist-packages (from torchvision->timm) (7.0.0)\n",
            "Installing collected packages: timm\n",
            "Successfully installed timm-0.4.5\n"
          ],
          "name": "stdout"
        }
      ]
    },
    {
      "cell_type": "code",
      "metadata": {
        "colab": {
          "base_uri": "https://localhost:8080/"
        },
        "id": "P3dzFl0Dn1Nj",
        "outputId": "762b9095-0d14-42b5-d1ce-baa03691a642"
      },
      "source": [
        "#albumentations\n",
        "if FLAGS['ENV'] == \"kaggle\":\n",
        "  import albumentations\n",
        "  print(albumentations.__version__)\n",
        "else:\n",
        "  !pip install --upgrade --force-reinstall --no-deps albumentations\n",
        "\n",
        "from albumentations import (\n",
        "    Compose, OneOf, Normalize, Resize, RandomResizedCrop, RandomCrop, HorizontalFlip, VerticalFlip, \n",
        "    RandomBrightness, RandomContrast, RandomBrightnessContrast, Rotate, ShiftScaleRotate, Cutout, \n",
        "    IAAAdditiveGaussianNoise, Transpose\n",
        "    )\n",
        "from albumentations.pytorch import ToTensorV2"
      ],
      "execution_count": 11,
      "outputs": [
        {
          "output_type": "stream",
          "text": [
            "Collecting albumentations\n",
            "\u001b[?25l  Downloading https://files.pythonhosted.org/packages/03/58/63fb1d742dc42d9ba2800ea741de1f2bc6bb05548d8724aa84794042eaf2/albumentations-0.5.2-py3-none-any.whl (72kB)\n",
            "\r\u001b[K     |████▌                           | 10kB 19.3MB/s eta 0:00:01\r\u001b[K     |█████████                       | 20kB 26.9MB/s eta 0:00:01\r\u001b[K     |█████████████▋                  | 30kB 31.3MB/s eta 0:00:01\r\u001b[K     |██████████████████▏             | 40kB 23.2MB/s eta 0:00:01\r\u001b[K     |██████████████████████▊         | 51kB 18.6MB/s eta 0:00:01\r\u001b[K     |███████████████████████████▏    | 61kB 17.3MB/s eta 0:00:01\r\u001b[K     |███████████████████████████████▊| 71kB 13.5MB/s eta 0:00:01\r\u001b[K     |████████████████████████████████| 81kB 6.2MB/s \n",
            "\u001b[?25hInstalling collected packages: albumentations\n",
            "  Found existing installation: albumentations 0.1.12\n",
            "    Uninstalling albumentations-0.1.12:\n",
            "      Successfully uninstalled albumentations-0.1.12\n",
            "Successfully installed albumentations-0.5.2\n"
          ],
          "name": "stdout"
        }
      ]
    },
    {
      "cell_type": "markdown",
      "metadata": {
        "id": "esAL1uXRc8pK"
      },
      "source": [
        "#Permanent Seeds"
      ]
    },
    {
      "cell_type": "code",
      "metadata": {
        "id": "S3sUs8nRz9e0"
      },
      "source": [
        "def seed_torch(seed=42):\n",
        "    random.seed(seed)\n",
        "    os.environ['PYTHONHASHSEED'] = str(seed)\n",
        "    np.random.seed(seed)\n",
        "    torch.manual_seed(seed)\n",
        "    torch.cuda.manual_seed(seed)\n",
        "    torch.backends.cudnn.deterministic = True\n",
        "\n",
        "seed_torch()"
      ],
      "execution_count": 12,
      "outputs": []
    },
    {
      "cell_type": "markdown",
      "metadata": {
        "id": "WA4_JwQmbOLD"
      },
      "source": [
        "#Parameters(Non-tuning)"
      ]
    },
    {
      "cell_type": "code",
      "metadata": {
        "id": "T6Wc1_ZyYXiI"
      },
      "source": [
        "#data\n",
        "FLAGS['OS_LIST_DIR'] = f\"../input/{FLAGS['COMP_NAME']}\"\n",
        "FLAGS['DATA_PATH'] = FLAGS['OS_LIST_DIR']+\"/train_images\" if FLAGS['PGM_TYPE'] == \"TRIN\" else FLAGS['OS_LIST_DIR']+\"/test_images\"\n",
        "FLAGS['image_size'] = 384\n",
        "#model\n",
        "FLAGS['model_name'] = 'resnext50_32x4d'\n",
        "FLAGS['target_size'] = 12\n",
        "FLAGS['OUTPUT_DIR'] = \"./\"  if \"KAGGLE_DATA_PROXY_TOKEN\" in os.environ.keys() else f\"{ROOT_DIR}/kaggle/output/{FLAGS['COMP_NAME']}\"\n",
        "FLAGS['MODEL_PATH'] = \"../input/\"+FLAGS['COMP_NAME']+\"--\"+FLAGS['model_name'].replace('_', '-')+\"/\" if \"KAGGLE_DATA_PROXY_TOKEN\" in os.environ.keys() else f\"{FLAGS['OUTPUT_DIR']}/pth/\""
      ],
      "execution_count": 13,
      "outputs": []
    },
    {
      "cell_type": "markdown",
      "metadata": {
        "id": "IhW1EqrYtaQz"
      },
      "source": [
        "#LoadData"
      ]
    },
    {
      "cell_type": "code",
      "metadata": {
        "colab": {
          "base_uri": "https://localhost:8080/"
        },
        "id": "SGtJvJb7lJdL",
        "outputId": "aee60787-8836-4fcd-c7ba-2bcb69ba1f5a"
      },
      "source": [
        "os.listdir(FLAGS['OS_LIST_DIR'] )"
      ],
      "execution_count": 14,
      "outputs": [
        {
          "output_type": "execute_result",
          "data": {
            "text/plain": [
              "['sample_submission.csv',\n",
              " 'train.csv',\n",
              " 'plant-pathology-2021-fgvc8.zip',\n",
              " 'test_images',\n",
              " 'train_images']"
            ]
          },
          "metadata": {
            "tags": []
          },
          "execution_count": 14
        }
      ]
    },
    {
      "cell_type": "code",
      "metadata": {
        "colab": {
          "base_uri": "https://localhost:8080/"
        },
        "id": "ALlOZqfSbZt3",
        "outputId": "7e818052-aee3-4292-ec72-b840a790b315"
      },
      "source": [
        "train = pd.read_csv(f'{FLAGS[\"OS_LIST_DIR\"]}/train.csv')\n",
        "print(f'Train samples: {len(train)}')"
      ],
      "execution_count": 15,
      "outputs": [
        {
          "output_type": "stream",
          "text": [
            "Train samples: 18632\n"
          ],
          "name": "stdout"
        }
      ]
    },
    {
      "cell_type": "code",
      "metadata": {
        "colab": {
          "base_uri": "https://localhost:8080/",
          "height": 359
        },
        "id": "pdxrIoxU5tYW",
        "outputId": "84f47a6b-934b-4389-ea6c-f23b0644929e"
      },
      "source": [
        "train.head(10)"
      ],
      "execution_count": 16,
      "outputs": [
        {
          "output_type": "execute_result",
          "data": {
            "text/html": [
              "<div>\n",
              "<style scoped>\n",
              "    .dataframe tbody tr th:only-of-type {\n",
              "        vertical-align: middle;\n",
              "    }\n",
              "\n",
              "    .dataframe tbody tr th {\n",
              "        vertical-align: top;\n",
              "    }\n",
              "\n",
              "    .dataframe thead th {\n",
              "        text-align: right;\n",
              "    }\n",
              "</style>\n",
              "<table border=\"1\" class=\"dataframe\">\n",
              "  <thead>\n",
              "    <tr style=\"text-align: right;\">\n",
              "      <th></th>\n",
              "      <th>image</th>\n",
              "      <th>labels</th>\n",
              "    </tr>\n",
              "  </thead>\n",
              "  <tbody>\n",
              "    <tr>\n",
              "      <th>0</th>\n",
              "      <td>800113bb65efe69e.jpg</td>\n",
              "      <td>healthy</td>\n",
              "    </tr>\n",
              "    <tr>\n",
              "      <th>1</th>\n",
              "      <td>8002cb321f8bfcdf.jpg</td>\n",
              "      <td>scab frog_eye_leaf_spot complex</td>\n",
              "    </tr>\n",
              "    <tr>\n",
              "      <th>2</th>\n",
              "      <td>80070f7fb5e2ccaa.jpg</td>\n",
              "      <td>scab</td>\n",
              "    </tr>\n",
              "    <tr>\n",
              "      <th>3</th>\n",
              "      <td>80077517781fb94f.jpg</td>\n",
              "      <td>scab</td>\n",
              "    </tr>\n",
              "    <tr>\n",
              "      <th>4</th>\n",
              "      <td>800cbf0ff87721f8.jpg</td>\n",
              "      <td>complex</td>\n",
              "    </tr>\n",
              "    <tr>\n",
              "      <th>5</th>\n",
              "      <td>800edef467d27c15.jpg</td>\n",
              "      <td>healthy</td>\n",
              "    </tr>\n",
              "    <tr>\n",
              "      <th>6</th>\n",
              "      <td>800f85dc5f407aef.jpg</td>\n",
              "      <td>cider_apple_rust</td>\n",
              "    </tr>\n",
              "    <tr>\n",
              "      <th>7</th>\n",
              "      <td>801d6dcd96e48ebc.jpg</td>\n",
              "      <td>healthy</td>\n",
              "    </tr>\n",
              "    <tr>\n",
              "      <th>8</th>\n",
              "      <td>801f78399a44e7af.jpg</td>\n",
              "      <td>complex</td>\n",
              "    </tr>\n",
              "    <tr>\n",
              "      <th>9</th>\n",
              "      <td>8021b94d437eb7d3.jpg</td>\n",
              "      <td>healthy</td>\n",
              "    </tr>\n",
              "  </tbody>\n",
              "</table>\n",
              "</div>"
            ],
            "text/plain": [
              "                  image                           labels\n",
              "0  800113bb65efe69e.jpg                          healthy\n",
              "1  8002cb321f8bfcdf.jpg  scab frog_eye_leaf_spot complex\n",
              "2  80070f7fb5e2ccaa.jpg                             scab\n",
              "3  80077517781fb94f.jpg                             scab\n",
              "4  800cbf0ff87721f8.jpg                          complex\n",
              "5  800edef467d27c15.jpg                          healthy\n",
              "6  800f85dc5f407aef.jpg                 cider_apple_rust\n",
              "7  801d6dcd96e48ebc.jpg                          healthy\n",
              "8  801f78399a44e7af.jpg                          complex\n",
              "9  8021b94d437eb7d3.jpg                          healthy"
            ]
          },
          "metadata": {
            "tags": []
          },
          "execution_count": 16
        }
      ]
    },
    {
      "cell_type": "code",
      "metadata": {
        "colab": {
          "base_uri": "https://localhost:8080/",
          "height": 142
        },
        "id": "J9Z0fQafFWes",
        "outputId": "8d356a9b-b36a-4bcc-f53c-4f4dcce06472"
      },
      "source": [
        "test = pd.read_csv(f\"../input/{FLAGS['COMP_NAME']}/sample_submission.csv\")\n",
        "test.head()"
      ],
      "execution_count": 17,
      "outputs": [
        {
          "output_type": "execute_result",
          "data": {
            "text/html": [
              "<div>\n",
              "<style scoped>\n",
              "    .dataframe tbody tr th:only-of-type {\n",
              "        vertical-align: middle;\n",
              "    }\n",
              "\n",
              "    .dataframe tbody tr th {\n",
              "        vertical-align: top;\n",
              "    }\n",
              "\n",
              "    .dataframe thead th {\n",
              "        text-align: right;\n",
              "    }\n",
              "</style>\n",
              "<table border=\"1\" class=\"dataframe\">\n",
              "  <thead>\n",
              "    <tr style=\"text-align: right;\">\n",
              "      <th></th>\n",
              "      <th>image</th>\n",
              "      <th>labels</th>\n",
              "    </tr>\n",
              "  </thead>\n",
              "  <tbody>\n",
              "    <tr>\n",
              "      <th>0</th>\n",
              "      <td>85f8cb619c66b863.jpg</td>\n",
              "      <td>healthy</td>\n",
              "    </tr>\n",
              "    <tr>\n",
              "      <th>1</th>\n",
              "      <td>ad8770db05586b59.jpg</td>\n",
              "      <td>healthy</td>\n",
              "    </tr>\n",
              "    <tr>\n",
              "      <th>2</th>\n",
              "      <td>c7b03e718489f3ca.jpg</td>\n",
              "      <td>healthy</td>\n",
              "    </tr>\n",
              "  </tbody>\n",
              "</table>\n",
              "</div>"
            ],
            "text/plain": [
              "                  image   labels\n",
              "0  85f8cb619c66b863.jpg  healthy\n",
              "1  ad8770db05586b59.jpg  healthy\n",
              "2  c7b03e718489f3ca.jpg  healthy"
            ]
          },
          "metadata": {
            "tags": []
          },
          "execution_count": 17
        }
      ]
    },
    {
      "cell_type": "code",
      "metadata": {
        "colab": {
          "base_uri": "https://localhost:8080/",
          "height": 142
        },
        "id": "9RAlHnS8PSfS",
        "outputId": "96647456-6288-4df3-dd09-dd38785aa28d"
      },
      "source": [
        "labels = list(test['labels'].value_counts().keys())\n",
        "labels_dict = dict(zip(labels, range(12)))\n",
        "test['labels'] = test['labels'].map(labels_dict)\n",
        "test.head()"
      ],
      "execution_count": 18,
      "outputs": [
        {
          "output_type": "execute_result",
          "data": {
            "text/html": [
              "<div>\n",
              "<style scoped>\n",
              "    .dataframe tbody tr th:only-of-type {\n",
              "        vertical-align: middle;\n",
              "    }\n",
              "\n",
              "    .dataframe tbody tr th {\n",
              "        vertical-align: top;\n",
              "    }\n",
              "\n",
              "    .dataframe thead th {\n",
              "        text-align: right;\n",
              "    }\n",
              "</style>\n",
              "<table border=\"1\" class=\"dataframe\">\n",
              "  <thead>\n",
              "    <tr style=\"text-align: right;\">\n",
              "      <th></th>\n",
              "      <th>image</th>\n",
              "      <th>labels</th>\n",
              "    </tr>\n",
              "  </thead>\n",
              "  <tbody>\n",
              "    <tr>\n",
              "      <th>0</th>\n",
              "      <td>85f8cb619c66b863.jpg</td>\n",
              "      <td>0</td>\n",
              "    </tr>\n",
              "    <tr>\n",
              "      <th>1</th>\n",
              "      <td>ad8770db05586b59.jpg</td>\n",
              "      <td>0</td>\n",
              "    </tr>\n",
              "    <tr>\n",
              "      <th>2</th>\n",
              "      <td>c7b03e718489f3ca.jpg</td>\n",
              "      <td>0</td>\n",
              "    </tr>\n",
              "  </tbody>\n",
              "</table>\n",
              "</div>"
            ],
            "text/plain": [
              "                  image  labels\n",
              "0  85f8cb619c66b863.jpg       0\n",
              "1  ad8770db05586b59.jpg       0\n",
              "2  c7b03e718489f3ca.jpg       0"
            ]
          },
          "metadata": {
            "tags": []
          },
          "execution_count": 18
        }
      ]
    },
    {
      "cell_type": "markdown",
      "metadata": {
        "id": "6FNz_yjduK2N"
      },
      "source": [
        "#Model"
      ]
    },
    {
      "cell_type": "code",
      "metadata": {
        "id": "SOOsrq7YuNzb"
      },
      "source": [
        "class CustomModel(nn.Module):\n",
        "    def __init__(self, model_name=FLAGS['model_name'], pretrained=True):\n",
        "        super().__init__()\n",
        "        self.model = timm.create_model(model_name, pretrained)\n",
        "        n_features = self.model.fc.in_features\n",
        "        self.model.fc = nn.Linear(n_features, FLAGS['target_size'])\n",
        "\n",
        "    def forward(self, x):\n",
        "        x = self.model(x)\n",
        "        return x"
      ],
      "execution_count": 19,
      "outputs": []
    },
    {
      "cell_type": "markdown",
      "metadata": {
        "id": "ZDEcd4Pph90d"
      },
      "source": [
        "##Transforming"
      ]
    },
    {
      "cell_type": "code",
      "metadata": {
        "id": "LM9PI2fqpc2M"
      },
      "source": [
        "def get_transforms(*, data): \n",
        "        return Compose([\n",
        "            RandomResizedCrop(FLAGS['image_size'], FLAGS['image_size'], scale=(0.85, 1.0)),\n",
        "            HorizontalFlip(p=0.5),\n",
        "            Normalize(\n",
        "                mean=[0.485, 0.456, 0.406],\n",
        "                std=[0.229, 0.224, 0.225],\n",
        "            ),\n",
        "            ToTensorV2(),\n",
        "        ])"
      ],
      "execution_count": 20,
      "outputs": []
    },
    {
      "cell_type": "code",
      "metadata": {
        "id": "UO8difsLFFn1"
      },
      "source": [
        "class TestDataset(Dataset):\n",
        "  def __init__(self, df, transform=None):\n",
        "    self.df = df\n",
        "    self.file_names = df['image'].values\n",
        "    self.labels = df['labels'].values\n",
        "    self.transform = transform\n",
        "        \n",
        "  def __len__(self):\n",
        "    return len(self.df)\n",
        "\n",
        "  def __getitem__(self, idx):\n",
        "    file_name = self.file_names[idx]\n",
        "    file_path = f\"{FLAGS['DATA_PATH']}/{file_name}\"\n",
        "    image = cv2.imread(file_path)\n",
        "    image = cv2.cvtColor(image, cv2.COLOR_BGR2RGB)\n",
        "    if self.transform:\n",
        "      augmented = self.transform(image=image)\n",
        "      image = augmented['image']\n",
        "      #label = torch.tensor(self.labels[idx]).float()\n",
        "    return image"
      ],
      "execution_count": 21,
      "outputs": []
    },
    {
      "cell_type": "code",
      "metadata": {
        "id": "LNXAZKVDGNyW"
      },
      "source": [
        "test_dataset = TestDataset(test, transform=get_transforms(data='valid'))"
      ],
      "execution_count": 22,
      "outputs": []
    },
    {
      "cell_type": "markdown",
      "metadata": {
        "id": "LOxxz4mkCmIJ"
      },
      "source": [
        "#Inference"
      ]
    },
    {
      "cell_type": "code",
      "metadata": {
        "id": "g6_ESsr4Cmpp"
      },
      "source": [
        "def inference(model, state, test_loader, device):\n",
        "    model.to(device)\n",
        "    tk0 = tqdm(enumerate(test_loader), total=len(test_loader))\n",
        "    probs = []\n",
        "    for i, (images) in tk0:\n",
        "        images = images.to(device)\n",
        "        avg_preds = []\n",
        "        model.load_state_dict(state)\n",
        "        model.eval()\n",
        "        with torch.no_grad():\n",
        "          y_preds = model(images)\n",
        "        avg_preds.append(y_preds.argmax(1).to('cpu').numpy())\n",
        "        avg_preds = np.mean(avg_preds, axis=0)\n",
        "        probs.append(avg_preds)\n",
        "    probs = np.concatenate(probs)\n",
        "    return probs"
      ],
      "execution_count": 23,
      "outputs": []
    },
    {
      "cell_type": "markdown",
      "metadata": {
        "id": "4AR8k-8MSYIn"
      },
      "source": [
        "#Parameters(Tuning)"
      ]
    },
    {
      "cell_type": "code",
      "metadata": {
        "id": "n47pur9-SXas"
      },
      "source": [
        "#training\n",
        "FLAGS['batch_size'] = 16\n",
        "FLAGS['num_workers'] = 2\n",
        "FLAGS['learning_rate'] = 2e-4\n",
        "FLAGS['min_lr'] = 2e-5\n",
        "FLAGS['T_max'] = 6e5\n",
        "FLAGS['weight_decay'] = 1e-4\n",
        "FLAGS['num_cores'] = 8\n",
        "FLAGS['num_epochs'] = 2\n",
        "FLAGS['print_freq'] = 100\n",
        "FLAGS['max_grad_norm']=1e3"
      ],
      "execution_count": 24,
      "outputs": []
    },
    {
      "cell_type": "markdown",
      "metadata": {
        "id": "mPr9GxuJuUcN"
      },
      "source": [
        "#Execute Main"
      ]
    },
    {
      "cell_type": "code",
      "metadata": {
        "id": "wKMvrX87uVAK",
        "colab": {
          "base_uri": "https://localhost:8080/",
          "height": 159,
          "referenced_widgets": [
            "0ae6a5f363b847fca2579d88d547742a",
            "e6af6e954b004cfeb3827c5531dc537b",
            "cdcc4e91a0a94e36ae0c25f429c052da",
            "db0e7aa37bdd47d68b27a253307d5e07",
            "2df2d2f9ad254d7abff39f06debd48a4",
            "0fb2bd6d70854642880b43dd15167384",
            "e830e4da1ae8451e9139419639e824fd",
            "90538e0e202b4e70b37b6d57e86dc812"
          ]
        },
        "outputId": "a2c567f0-88fc-4434-c05c-8e7e5419d5ec"
      },
      "source": [
        "model = CustomModel(pretrained=False)\n",
        "state = torch.load(f\"{FLAGS['MODEL_PATH']}{FLAGS['model_name']}.pth\")\n",
        "test_dataset = TestDataset(test, transform=get_transforms(data='valid'))\n",
        "test_loader = DataLoader(test_dataset, batch_size=FLAGS['batch_size'], shuffle=False, \n",
        "                         num_workers=FLAGS['num_workers'], pin_memory=True)\n",
        "predictions = inference(model, state, test_loader, device)\n",
        "# submission\n",
        "test['labels'] = predictions.astype(int)\n",
        "test.to_csv(FLAGS['OUTPUT_DIR']+'/submission.csv', index=False)\n",
        "test.head()"
      ],
      "execution_count": 25,
      "outputs": [
        {
          "output_type": "display_data",
          "data": {
            "application/vnd.jupyter.widget-view+json": {
              "model_id": "0ae6a5f363b847fca2579d88d547742a",
              "version_minor": 0,
              "version_major": 2
            },
            "text/plain": [
              "HBox(children=(FloatProgress(value=0.0, max=1.0), HTML(value='')))"
            ]
          },
          "metadata": {
            "tags": []
          }
        },
        {
          "output_type": "stream",
          "text": [
            "\n"
          ],
          "name": "stdout"
        },
        {
          "output_type": "execute_result",
          "data": {
            "text/html": [
              "<div>\n",
              "<style scoped>\n",
              "    .dataframe tbody tr th:only-of-type {\n",
              "        vertical-align: middle;\n",
              "    }\n",
              "\n",
              "    .dataframe tbody tr th {\n",
              "        vertical-align: top;\n",
              "    }\n",
              "\n",
              "    .dataframe thead th {\n",
              "        text-align: right;\n",
              "    }\n",
              "</style>\n",
              "<table border=\"1\" class=\"dataframe\">\n",
              "  <thead>\n",
              "    <tr style=\"text-align: right;\">\n",
              "      <th></th>\n",
              "      <th>image</th>\n",
              "      <th>labels</th>\n",
              "    </tr>\n",
              "  </thead>\n",
              "  <tbody>\n",
              "    <tr>\n",
              "      <th>0</th>\n",
              "      <td>85f8cb619c66b863.jpg</td>\n",
              "      <td>0</td>\n",
              "    </tr>\n",
              "    <tr>\n",
              "      <th>1</th>\n",
              "      <td>ad8770db05586b59.jpg</td>\n",
              "      <td>6</td>\n",
              "    </tr>\n",
              "    <tr>\n",
              "      <th>2</th>\n",
              "      <td>c7b03e718489f3ca.jpg</td>\n",
              "      <td>2</td>\n",
              "    </tr>\n",
              "  </tbody>\n",
              "</table>\n",
              "</div>"
            ],
            "text/plain": [
              "                  image  labels\n",
              "0  85f8cb619c66b863.jpg       0\n",
              "1  ad8770db05586b59.jpg       6\n",
              "2  c7b03e718489f3ca.jpg       2"
            ]
          },
          "metadata": {
            "tags": []
          },
          "execution_count": 25
        }
      ]
    },
    {
      "cell_type": "code",
      "metadata": {
        "colab": {
          "base_uri": "https://localhost:8080/",
          "height": 142
        },
        "id": "pDcGx_F4L8O_",
        "outputId": "51a4adfe-dc5f-44ee-c652-5a9e268e7c80"
      },
      "source": [
        "labels = list(train['labels'].value_counts().keys())\n",
        "labels_dict = dict(zip(range(12), labels))\n",
        "test['labels'] = test['labels'].map(labels_dict)\n",
        "test.head()"
      ],
      "execution_count": 26,
      "outputs": [
        {
          "output_type": "execute_result",
          "data": {
            "text/html": [
              "<div>\n",
              "<style scoped>\n",
              "    .dataframe tbody tr th:only-of-type {\n",
              "        vertical-align: middle;\n",
              "    }\n",
              "\n",
              "    .dataframe tbody tr th {\n",
              "        vertical-align: top;\n",
              "    }\n",
              "\n",
              "    .dataframe thead th {\n",
              "        text-align: right;\n",
              "    }\n",
              "</style>\n",
              "<table border=\"1\" class=\"dataframe\">\n",
              "  <thead>\n",
              "    <tr style=\"text-align: right;\">\n",
              "      <th></th>\n",
              "      <th>image</th>\n",
              "      <th>labels</th>\n",
              "    </tr>\n",
              "  </thead>\n",
              "  <tbody>\n",
              "    <tr>\n",
              "      <th>0</th>\n",
              "      <td>85f8cb619c66b863.jpg</td>\n",
              "      <td>scab</td>\n",
              "    </tr>\n",
              "    <tr>\n",
              "      <th>1</th>\n",
              "      <td>ad8770db05586b59.jpg</td>\n",
              "      <td>scab frog_eye_leaf_spot</td>\n",
              "    </tr>\n",
              "    <tr>\n",
              "      <th>2</th>\n",
              "      <td>c7b03e718489f3ca.jpg</td>\n",
              "      <td>frog_eye_leaf_spot</td>\n",
              "    </tr>\n",
              "  </tbody>\n",
              "</table>\n",
              "</div>"
            ],
            "text/plain": [
              "                  image                   labels\n",
              "0  85f8cb619c66b863.jpg                     scab\n",
              "1  ad8770db05586b59.jpg  scab frog_eye_leaf_spot\n",
              "2  c7b03e718489f3ca.jpg       frog_eye_leaf_spot"
            ]
          },
          "metadata": {
            "tags": []
          },
          "execution_count": 26
        }
      ]
    }
  ]
}